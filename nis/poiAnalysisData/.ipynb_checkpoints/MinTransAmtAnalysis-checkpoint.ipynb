{
 "metadata": {
  "name": "",
  "signature": "sha256:e67ab27e3c9d39fa502f304dc5a6b62b3989a8ad523ba5390372833fbb960f38"
 },
 "nbformat": 3,
 "nbformat_minor": 0,
 "worksheets": [
  {
   "cells": [
    {
     "cell_type": "code",
     "collapsed": false,
     "input": [],
     "language": "python",
     "metadata": {},
     "outputs": []
    }
   ],
   "metadata": {}
  }
 ]
}