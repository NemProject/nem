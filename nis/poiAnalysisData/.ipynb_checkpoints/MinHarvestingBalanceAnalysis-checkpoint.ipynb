{
 "metadata": {
  "name": "",
  "signature": "sha256:b4d2278fc601bb43bde2195d8308d3bcbd59f744f3790862a51636232a7d922a"
 },
 "nbformat": 3,
 "nbformat_minor": 0,
 "worksheets": [
  {
   "cells": [
    {
     "cell_type": "code",
     "collapsed": false,
     "input": [
      "import glob"
     ],
     "language": "python",
     "metadata": {},
     "outputs": [],
     "prompt_number": 11
    },
    {
     "cell_type": "code",
     "collapsed": false,
     "input": [
      "ls"
     ],
     "language": "python",
     "metadata": {},
     "outputs": [
      {
       "output_type": "stream",
       "stream": "stdout",
       "text": [
        "\u001b[34m2mu_55epsilon\u001b[m\u001b[m/                      \u001b[34m3mu_55epsilon\u001b[m\u001b[m/                      \u001b[34m3mu_65epsilon\u001b[m\u001b[m/                      MinHarvestingBalanceAnalysis.ipynb\r\n"
       ]
      }
     ],
     "prompt_number": 12
    },
    {
     "cell_type": "markdown",
     "metadata": {},
     "source": [
      "##MU = 2, EPSILON = .55"
     ]
    },
    {
     "cell_type": "code",
     "collapsed": false,
     "input": [
      "m2e55 = glob.glob('2mu_55epsilon/*.csv')"
     ],
     "language": "python",
     "metadata": {},
     "outputs": [],
     "prompt_number": 13
    },
    {
     "cell_type": "markdown",
     "metadata": {},
     "source": [
      "##MU = 3, EPSILON = .55"
     ]
    },
    {
     "cell_type": "code",
     "collapsed": false,
     "input": [
      "m3e55 = glob.glob('3mu_55epsilon /*.csv')"
     ],
     "language": "python",
     "metadata": {},
     "outputs": [],
     "prompt_number": 15
    },
    {
     "cell_type": "markdown",
     "metadata": {},
     "source": [
      "##MU = 3, EPSILON = .65"
     ]
    },
    {
     "cell_type": "code",
     "collapsed": false,
     "input": [
      "m3e65 = glob.glob('3mu_65epsilon  /*.csv')"
     ],
     "language": "python",
     "metadata": {},
     "outputs": [],
     "prompt_number": 17
    }
   ],
   "metadata": {}
  }
 ]
}